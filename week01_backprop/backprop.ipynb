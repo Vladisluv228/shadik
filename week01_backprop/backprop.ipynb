{
  "cells": [
    {
      "cell_type": "markdown",
      "metadata": {
        "id": "661B2GopHTzO"
      },
      "source": [
        "### Your very own neural network\n",
        "\n",
        "In this notebook, we're going to build a neural network using naught but pure numpy and your willpower. It's going to be fun, I promise!\n",
        "\n",
        "![img](https://github.com/yandexdataschool/Practical_DL/blob/fall24/week01_backprop/frank.png?raw=1)"
      ]
    },
    {
      "cell_type": "code",
      "execution_count": 41,
      "metadata": {
        "collapsed": true,
        "colab": {
          "base_uri": "https://localhost:8080/"
        },
        "id": "AGabP_H9HTzR",
        "outputId": "6de61379-b454-4b2b-c4b4-8ca5664b1b6e"
      },
      "outputs": [
        {
          "output_type": "stream",
          "name": "stdout",
          "text": [
            "--2025-07-08 19:50:33--  https://raw.githubusercontent.com/yandexdataschool/Practical_DL/23f74b181e0c0be9f27852de228d1b69b9a08124/week01_backprop/util.py\n",
            "Resolving raw.githubusercontent.com (raw.githubusercontent.com)... 185.199.111.133, 185.199.108.133, 185.199.110.133, ...\n",
            "Connecting to raw.githubusercontent.com (raw.githubusercontent.com)|185.199.111.133|:443... connected.\n",
            "HTTP request sent, awaiting response... 200 OK\n",
            "Length: 3782 (3.7K) [text/plain]\n",
            "Saving to: ‘util.py’\n",
            "\n",
            "util.py             100%[===================>]   3.69K  --.-KB/s    in 0s      \n",
            "\n",
            "2025-07-08 19:50:33 (7.89 MB/s) - ‘util.py’ saved [3782/3782]\n",
            "\n",
            "--2025-07-08 19:50:33--  https://raw.githubusercontent.com/yandexdataschool/Practical_DL/23f74b181e0c0be9f27852de228d1b69b9a08124/week01_backprop/mnist.py\n",
            "Resolving raw.githubusercontent.com (raw.githubusercontent.com)... 185.199.109.133, 185.199.108.133, 185.199.111.133, ...\n",
            "Connecting to raw.githubusercontent.com (raw.githubusercontent.com)|185.199.109.133|:443... connected.\n",
            "HTTP request sent, awaiting response... 200 OK\n",
            "Length: 2715 (2.7K) [text/plain]\n",
            "Saving to: ‘mnist.py’\n",
            "\n",
            "mnist.py            100%[===================>]   2.65K  --.-KB/s    in 0s      \n",
            "\n",
            "2025-07-08 19:50:33 (47.7 MB/s) - ‘mnist.py’ saved [2715/2715]\n",
            "\n"
          ]
        }
      ],
      "source": [
        "# if running in colab, uncomment this:\n",
        "!wget https://raw.githubusercontent.com/yandexdataschool/Practical_DL/23f74b181e0c0be9f27852de228d1b69b9a08124/week01_backprop/util.py -O util.py\n",
        "!wget https://raw.githubusercontent.com/yandexdataschool/Practical_DL/23f74b181e0c0be9f27852de228d1b69b9a08124/week01_backprop/mnist.py -O mnist.py\n",
        "from __future__ import print_function\n",
        "import numpy as np\n",
        "np.random.seed(42)"
      ]
    },
    {
      "cell_type": "markdown",
      "metadata": {
        "id": "zm626mjtHTzS"
      },
      "source": [
        "Here goes our main class: a layer that can .forward() and .backward()."
      ]
    },
    {
      "cell_type": "code",
      "execution_count": 42,
      "metadata": {
        "collapsed": true,
        "id": "oTU8grksHTzS"
      },
      "outputs": [],
      "source": [
        "class Layer:\n",
        "    \"\"\"\n",
        "    A building block. Each layer is capable of performing two things:\n",
        "\n",
        "    - Process input to get output:           output = layer.forward(input)\n",
        "\n",
        "    - Propagate gradients through itself:    grad_input = layer.backward(input, grad_output)\n",
        "\n",
        "    Some layers also have learnable parameters which they update during layer.backward.\n",
        "    \"\"\"\n",
        "    def __init__(self):\n",
        "        \"\"\"Here you can initialize layer parameters (if any) and auxiliary stuff.\"\"\"\n",
        "        # A dummy layer does nothing\n",
        "        pass\n",
        "\n",
        "    def forward(self, input):\n",
        "        \"\"\"\n",
        "        Takes input data of shape [batch, input_units], returns output data [batch, output_units]\n",
        "        \"\"\"\n",
        "        # A dummy layer just returns whatever it gets as input.\n",
        "        return input\n",
        "\n",
        "    def backward(self, input, grad_output):\n",
        "        \"\"\"\n",
        "        Performs a backpropagation step through the layer, with respect to the given input.\n",
        "\n",
        "        To compute loss gradients w.r.t input, you need to apply chain rule (backprop):\n",
        "\n",
        "        d loss / d x  = (d loss / d layer) * (d layer / d x)\n",
        "\n",
        "        Luckily, you already receive d loss / d layer as input, so you only need to multiply it by d layer / d x.\n",
        "\n",
        "        If your layer has parameters (e.g. dense layer), you also need to update them here using d loss / d layer\n",
        "        \"\"\"\n",
        "        # The gradient of a dummy layer is precisely grad_output, but we'll write it more explicitly\n",
        "        num_units = input.shape[1]\n",
        "\n",
        "        d_layer_d_input = np.eye(num_units)\n",
        "\n",
        "        return np.dot(grad_output, d_layer_d_input) # chain rule"
      ]
    },
    {
      "cell_type": "markdown",
      "metadata": {
        "id": "NjqltCrxHTzS"
      },
      "source": [
        "### The road ahead\n",
        "\n",
        "We're going to build a neural network that classifies MNIST digits. To do so, we'll need a few building blocks:\n",
        "- Dense layer - a fully-connected layer, $f(X)=X \\cdot W + \\vec{b}$\n",
        "- ReLU layer (or any other nonlinearity you want)\n",
        "- Loss function - crossentropy\n",
        "- Backprop algorithm - a stochastic gradient descent with backpropageted gradients\n",
        "\n",
        "Let's approach them one at a time.\n"
      ]
    },
    {
      "cell_type": "markdown",
      "metadata": {
        "id": "dLD5V9GVHTzT"
      },
      "source": [
        "### Nonlinearity layer\n",
        "\n",
        "This is the simplest layer you can get: it simply applies a nonlinearity to each element of your network."
      ]
    },
    {
      "cell_type": "code",
      "execution_count": 73,
      "metadata": {
        "collapsed": true,
        "id": "iit_GMwoHTzT"
      },
      "outputs": [],
      "source": [
        "class TanH(Layer):\n",
        "    def __init__(self):\n",
        "        \"\"\"ReLU layer simply applies elementwise rectified linear unit to all inputs\"\"\"\n",
        "        pass\n",
        "\n",
        "    def forward(self, input):\n",
        "        \"\"\"Apply elementwise TanH to [batch, input_units] matrix\"\"\"\n",
        "        return np.tanh(input)\n",
        "\n",
        "    def backward(self, input, grad_output):\n",
        "        \"\"\"Compute gradient of loss w.r.t. TanH input\"\"\"\n",
        "        tanh_grad = 1 - np.tanh(input) ** 2\n",
        "        return grad_output*tanh_grad"
      ]
    },
    {
      "cell_type": "code",
      "source": [
        "class ReLU(Layer):\n",
        "    def __init__(self):\n",
        "        \"\"\"ReLU layer simply applies elementwise rectified linear unit to all inputs\"\"\"\n",
        "        pass\n",
        "\n",
        "    def forward(self, input):\n",
        "        \"\"\"Apply elementwise ReLU to [batch, input_units] matrix\"\"\"\n",
        "        return np.maximum(np.zeros(input.shape).astype(int), input)\n",
        "\n",
        "    def backward(self, input, grad_output):\n",
        "        \"\"\"Compute gradient of loss w.r.t. ReLU input\"\"\"\n",
        "        relu_grad = input > 0\n",
        "        return grad_output*relu_grad"
      ],
      "metadata": {
        "id": "a_us86B20umn"
      },
      "execution_count": 74,
      "outputs": []
    },
    {
      "cell_type": "code",
      "execution_count": 75,
      "metadata": {
        "collapsed": true,
        "id": "5-R3gAsGHTzT"
      },
      "outputs": [],
      "source": [
        "# some tests\n",
        "from util import eval_numerical_gradient\n",
        "x = np.linspace(-1,1,10*32).reshape([10,32])\n",
        "l = TanH()\n",
        "grads = l.backward(x,np.ones([10,32])/(32*10))\n",
        "numeric_grads = eval_numerical_gradient(lambda x: l.forward(x).mean(), x=x)\n",
        "assert np.allclose(grads, numeric_grads, rtol=1e-3, atol=0),\\\n",
        "    \"gradient returned by your layer does not match the numerically computed gradient\""
      ]
    },
    {
      "cell_type": "markdown",
      "metadata": {
        "id": "8hwN__QZHTzT"
      },
      "source": [
        "#### Instant primer: lambda functions\n",
        "\n",
        "In python, you can define functions in one line using the `lambda` syntax: `lambda param1, param2: expression`\n",
        "\n",
        "For example: `f = lambda x, y: x+y` is equivalent to a normal function:\n",
        "\n",
        "```\n",
        "def f(x,y):\n",
        "    return x+y\n",
        "```\n",
        "For more information, click [here](http://www.secnetix.de/olli/Python/lambda_functions.hawk).    "
      ]
    },
    {
      "cell_type": "markdown",
      "metadata": {
        "id": "2GwUsDXLHTzU"
      },
      "source": [
        "### Dense layer\n",
        "\n",
        "Now let's build something more complicated. Unlike nonlinearity, a dense layer actually has something to learn.\n",
        "\n",
        "A dense layer applies affine transformation. In a vectorized form, it can be described as:\n",
        "$$f(X)= X \\cdot W + \\vec b $$\n",
        "\n",
        "Where\n",
        "* X is an object-feature matrix of shape [batch_size, num_features],\n",
        "* W is a weight matrix [num_features, num_outputs]\n",
        "* and b is a vector of num_outputs biases.\n",
        "\n",
        "Both W and b are initialized during layer creation and updated each time backward is called."
      ]
    },
    {
      "cell_type": "code",
      "execution_count": 76,
      "metadata": {
        "collapsed": true,
        "id": "W0gXPhgvHTzU"
      },
      "outputs": [],
      "source": [
        "class Dense(Layer):\n",
        "    def __init__(self, input_units, output_units, learning_rate=0.1):\n",
        "        \"\"\"\n",
        "        A dense layer is a layer which performs a learned affine transformation:\n",
        "        f(x) = <x*W> + b\n",
        "        \"\"\"\n",
        "        self.learning_rate = learning_rate\n",
        "\n",
        "        # initialize weights with small random numbers. We use normal initialization,\n",
        "        # but surely there is something better. Try this once you got it working: http://bit.ly/2vTlmaJ\n",
        "        self.weights = np.random.randn(input_units, output_units)*0.01\n",
        "        self.biases = np.zeros(output_units)\n",
        "\n",
        "    def forward(self,input):\n",
        "        \"\"\"\n",
        "        Perform an affine transformation:\n",
        "        f(x) = <x*W> + b\n",
        "\n",
        "        input shape: [batch, input_units]\n",
        "        output shape: [batch, output units]\n",
        "        \"\"\"\n",
        "        return input @ self.weights + self.biases\n",
        "\n",
        "    def backward(self,input,grad_output):\n",
        "\n",
        "        # compute d f / d x = d f / d dense * d dense / d x\n",
        "        # where d dense/ d x = weights transposed\n",
        "        grad_input = grad_output @ self.weights.T\n",
        "\n",
        "        # compute gradient w.r.t. weights and biases\n",
        "        grad_weights = input.T @ grad_output\n",
        "        grad_biases = np.sum(grad_output, axis=0)\n",
        "\n",
        "        assert grad_weights.shape == self.weights.shape and grad_biases.shape == self.biases.shape\n",
        "        # Here we perform a stochastic gradient descent step.\n",
        "        # Later on, you can try replacing that with something better.\n",
        "        self.weights = self.weights - self.learning_rate * grad_weights\n",
        "        self.biases = self.biases - self.learning_rate * grad_biases\n",
        "\n",
        "        return grad_input"
      ]
    },
    {
      "cell_type": "markdown",
      "metadata": {
        "id": "DQR9WC_7HTzU"
      },
      "source": [
        "### Testing the dense layer\n",
        "\n",
        "Here we have a few tests to make sure your dense layer works properly. You can just run them, get 3 \"well done\"s and forget they ever existed.\n",
        "\n",
        "... or not get 3 \"well done\"s and go fix stuff. If that is the case, here are some tips for you:\n",
        "* Make sure you compute gradients for b as __sum of gradients over batch__, not mean over gradients. Grad_output is already divided by batch size.\n",
        "* If you're debugging, try saving gradients in class fields, like \"self.grad_w = grad_w\" or print first 3-5 weights. This helps debugging.\n",
        "* If nothing else helps, try ignoring tests and proceed to network training. If it trains alright, you may be off by something that does not affect network training."
      ]
    },
    {
      "cell_type": "code",
      "execution_count": 77,
      "metadata": {
        "colab": {
          "base_uri": "https://localhost:8080/"
        },
        "id": "non5cdxVHTzU",
        "outputId": "78a9f877-6f3b-4c11-9d1c-fa9e2dc09076"
      },
      "outputs": [
        {
          "output_type": "stream",
          "name": "stdout",
          "text": [
            "Well done!\n"
          ]
        }
      ],
      "source": [
        "l = Dense(128, 150)\n",
        "\n",
        "assert -0.05 < l.weights.mean() < 0.05 and 1e-3 < l.weights.std() < 1e-1,\\\n",
        "    \"The initial weights must have zero mean and small variance. \"\\\n",
        "    \"If you know what you're doing, remove this assertion.\"\n",
        "assert -0.05 < l.biases.mean() < 0.05, \"Biases must be zero mean. Ignore if you have a reason to do otherwise.\"\n",
        "\n",
        "# To test the outputs, we explicitly set weights with fixed values. DO NOT DO THAT IN ACTUAL NETWORK!\n",
        "l = Dense(3,4)\n",
        "\n",
        "x = np.linspace(-1,1,2*3).reshape([2,3])\n",
        "l.weights = np.linspace(-1,1,3*4).reshape([3,4])\n",
        "l.biases = np.linspace(-1,1,4)\n",
        "\n",
        "assert np.allclose(l.forward(x),np.array([[ 0.07272727,  0.41212121,  0.75151515,  1.09090909],\n",
        "                                          [-0.90909091,  0.08484848,  1.07878788,  2.07272727]]))\n",
        "print(\"Well done!\")"
      ]
    },
    {
      "cell_type": "code",
      "execution_count": 78,
      "metadata": {
        "id": "_qUeQAf4HTzV",
        "outputId": "cb07fc87-9d08-40d9-d000-ab874979ab0a",
        "colab": {
          "base_uri": "https://localhost:8080/"
        }
      },
      "outputs": [
        {
          "output_type": "stream",
          "name": "stdout",
          "text": [
            "Well done!\n"
          ]
        }
      ],
      "source": [
        "# To test the grads, we use gradients obtained via finite differences\n",
        "\n",
        "from util import eval_numerical_gradient\n",
        "\n",
        "x = np.linspace(-1,1,10*32).reshape([10,32])\n",
        "l = Dense(32,64,learning_rate=0)\n",
        "\n",
        "numeric_grads = eval_numerical_gradient(lambda x: l.forward(x).sum(),x)\n",
        "grads = l.backward(x,np.ones([10,64]))\n",
        "\n",
        "assert np.allclose(grads,numeric_grads,rtol=1e-3,atol=0), \"input gradient does not match numeric grad\"\n",
        "print(\"Well done!\")"
      ]
    },
    {
      "cell_type": "code",
      "execution_count": 79,
      "metadata": {
        "id": "tKkHPFMKHTzV",
        "outputId": "562355e5-02c9-47d2-cba8-084a36c324c9",
        "colab": {
          "base_uri": "https://localhost:8080/"
        }
      },
      "outputs": [
        {
          "output_type": "stream",
          "name": "stdout",
          "text": [
            "Well done!\n"
          ]
        }
      ],
      "source": [
        "#test gradients w.r.t. params\n",
        "def compute_out_given_wb(w,b):\n",
        "    l = Dense(32,64,learning_rate=1)\n",
        "    l.weights = np.array(w)\n",
        "    l.biases = np.array(b)\n",
        "    x = np.linspace(-1,1,10*32).reshape([10,32])\n",
        "    return l.forward(x)\n",
        "\n",
        "def compute_grad_by_params(w,b):\n",
        "    l = Dense(32,64,learning_rate=1)\n",
        "    l.weights = np.array(w)\n",
        "    l.biases = np.array(b)\n",
        "    x = np.linspace(-1,1,10*32).reshape([10,32])\n",
        "    l.backward(x,np.ones([10,64]) / 10.)\n",
        "    return w - l.weights, b - l.biases\n",
        "\n",
        "w,b = np.random.randn(32,64), np.linspace(-1,1,64)\n",
        "\n",
        "numeric_dw = eval_numerical_gradient(lambda w: compute_out_given_wb(w,b).mean(0).sum(),w )\n",
        "numeric_db = eval_numerical_gradient(lambda b: compute_out_given_wb(w,b).mean(0).sum(),b )\n",
        "grad_w,grad_b = compute_grad_by_params(w,b)\n",
        "\n",
        "assert np.allclose(numeric_dw,grad_w,rtol=1e-3,atol=0), \"weight gradient does not match numeric weight gradient\"\n",
        "assert np.allclose(numeric_db,grad_b,rtol=1e-3,atol=0), \"weight gradient does not match numeric weight gradient\"\n",
        "print(\"Well done!\")"
      ]
    },
    {
      "cell_type": "markdown",
      "metadata": {
        "id": "8AMzySDFHTzV"
      },
      "source": [
        "### The loss function\n",
        "\n",
        "Since we want to predict probabilities, it would be logical for us to define softmax nonlinearity on top of our network and compute loss given predicted probabilities. However, there is a better way to do so.\n",
        "\n",
        "If you write down the expression for crossentropy as a function of softmax logits (a), you'll see:\n",
        "\n",
        "$$ loss = - log \\space {e^{a_{correct}} \\over {\\underset i \\sum e^{a_i} } } $$\n",
        "\n",
        "If you take a closer look, ya'll see that it can be rewritten as:\n",
        "\n",
        "$$ loss = - a_{correct} + log {\\underset i \\sum e^{a_i} } $$\n",
        "\n",
        "It's called Log-softmax and it's better than naive log(softmax(a)) in all aspects:\n",
        "* Better numerical stability\n",
        "* Easier to get derivative right\n",
        "* Marginally faster to compute\n",
        "\n",
        "So why not just use log-softmax throughout our computation and never actually bother to estimate probabilities.\n",
        "\n",
        "Here you are! We've defined the both loss functions for you so that you could focus on neural network part."
      ]
    },
    {
      "cell_type": "code",
      "execution_count": 80,
      "metadata": {
        "collapsed": true,
        "id": "vUZONrMyHTzV"
      },
      "outputs": [],
      "source": [
        "def softmax_crossentropy_with_logits(logits,reference_answers):\n",
        "    \"\"\"Compute crossentropy from logits[batch,n_classes] and ids of correct answers\"\"\"\n",
        "    logits_for_answers = logits[np.arange(len(logits)),reference_answers]\n",
        "\n",
        "    xentropy = - logits_for_answers + np.log(np.sum(np.exp(logits),axis=-1))\n",
        "\n",
        "    return xentropy\n",
        "\n",
        "def grad_softmax_crossentropy_with_logits(logits,reference_answers):\n",
        "    \"\"\"Compute crossentropy gradient from logits[batch,n_classes] and ids of correct answers\"\"\"\n",
        "    ones_for_answers = np.zeros_like(logits)\n",
        "    ones_for_answers[np.arange(len(logits)),reference_answers] = 1\n",
        "\n",
        "    softmax = np.exp(logits) / np.exp(logits).sum(axis=-1,keepdims=True)\n",
        "\n",
        "    return (- ones_for_answers + softmax) / logits.shape[0]"
      ]
    },
    {
      "cell_type": "code",
      "execution_count": 81,
      "metadata": {
        "collapsed": true,
        "id": "AhZ_WwztHTzV"
      },
      "outputs": [],
      "source": [
        "logits = np.linspace(-1,1,500).reshape([50,10])\n",
        "answers = np.arange(50)%10\n",
        "\n",
        "softmax_crossentropy_with_logits(logits,answers)\n",
        "grads = grad_softmax_crossentropy_with_logits(logits,answers)\n",
        "numeric_grads = eval_numerical_gradient(lambda l: softmax_crossentropy_with_logits(l,answers).mean(),logits)\n",
        "\n",
        "assert np.allclose(numeric_grads,grads,rtol=1e-3,atol=0), \"The reference implementation has just failed. Someone has just changed the rules of math.\""
      ]
    },
    {
      "cell_type": "markdown",
      "metadata": {
        "id": "WMntg81pHTzW"
      },
      "source": [
        "### Full network\n",
        "\n",
        "Now let's combine what we've just built into a working neural network. As we announced, we're gonna use this monster to classify handwritten digits, so let's get them loaded."
      ]
    },
    {
      "cell_type": "code",
      "execution_count": 82,
      "metadata": {
        "id": "GwmSiV8GHTzW",
        "outputId": "1f2f3d50-8d7f-4273-dc9b-373eef787213",
        "colab": {
          "base_uri": "https://localhost:8080/",
          "height": 545
        }
      },
      "outputs": [
        {
          "output_type": "display_data",
          "data": {
            "text/plain": [
              "<Figure size 600x600 with 4 Axes>"
            ],
            "image/png": "[encoded data removed]"
          },
          "metadata": {}
        }
      ],
      "source": [
        "import matplotlib.pyplot as plt\n",
        "%matplotlib inline\n",
        "\n",
        "from mnist import load_dataset\n",
        "X_train, y_train, X_val, y_val, X_test, y_test = load_dataset(flatten=True)\n",
        "\n",
        "plt.figure(figsize=[6,6])\n",
        "for i in range(4):\n",
        "    plt.subplot(2,2,i+1)\n",
        "    plt.title(\"Label: %i\"%y_train[i])\n",
        "    plt.imshow(X_train[i].reshape([28,28]),cmap='gray');"
      ]
    },
    {
      "cell_type": "markdown",
      "metadata": {
        "id": "MB7bqrH1HTzW"
      },
      "source": [
        "We'll define network as a list of layers, each applied on top of previous one. In this setting, computing predictions and training becomes trivial."
      ]
    },
    {
      "cell_type": "code",
      "execution_count": 83,
      "metadata": {
        "collapsed": true,
        "id": "N4IQ5fozHTzW"
      },
      "outputs": [],
      "source": [
        "network = []\n",
        "network.append(Dense(X_train.shape[1], 100))\n",
        "network.append(ReLU())\n",
        "network.append(Dense(100, 200))\n",
        "network.append(ReLU())\n",
        "network.append(Dense(200, 150))\n",
        "network.append(ReLU())\n",
        "network.append(Dense(150, 100))"
      ]
    },
    {
      "cell_type": "code",
      "execution_count": 84,
      "metadata": {
        "collapsed": true,
        "id": "tSwVuBfaHTzW"
      },
      "outputs": [],
      "source": [
        "def forward(network, X):\n",
        "    \"\"\"\n",
        "    Compute activations of all network layers by applying them sequentially.\n",
        "    Return a list of activations for each layer.\n",
        "    Make sure last activation corresponds to network logits.\n",
        "    \"\"\"\n",
        "    activations = []\n",
        "    input = X\n",
        "\n",
        "    for layer_ind in range(len(network)):\n",
        "      activations.append(network[layer_ind].forward(input) if layer_ind == 0 else network[layer_ind].forward(activations[layer_ind - 1]))\n",
        "\n",
        "    assert len(activations) == len(network)\n",
        "    return activations\n",
        "\n",
        "def predict(network, X):\n",
        "    \"\"\"\n",
        "    Use network to predict the most likely class for each sample.\n",
        "    \"\"\"\n",
        "    logits = forward(network, X)[-1]\n",
        "    return logits.argmax(axis=-1)"
      ]
    },
    {
      "cell_type": "markdown",
      "metadata": {
        "id": "bO0rKKIQHTzW"
      },
      "source": [
        "### Backprop\n",
        "\n",
        "You can now define the backpropagation step for the neural network. Please read the docstring."
      ]
    },
    {
      "cell_type": "code",
      "execution_count": 85,
      "metadata": {
        "collapsed": true,
        "id": "heYJcwImHTzW"
      },
      "outputs": [],
      "source": [
        "def train(network,X,y):\n",
        "    \"\"\"\n",
        "    Train your network on a given batch of X and y.\n",
        "    You first need to run forward to get all layer activations.\n",
        "    You can estimate loss and loss_grad, obtaining dL / dy_pred\n",
        "    Then you can run layer.backward going from last layer to first,\n",
        "    propagating the gradient of input to previous layers.\n",
        "\n",
        "    After you called backward for all layers, all Dense layers have already made one gradient step.\n",
        "    \"\"\"\n",
        "\n",
        "    # Get the layer activations\n",
        "    layer_activations = forward(network,X)\n",
        "    layer_inputs = [X] + layer_activations  #layer_input[i] is an input for network[i]\n",
        "    logits = layer_activations[-1]\n",
        "\n",
        "    # Compute the loss and the initial gradient\n",
        "    loss = softmax_crossentropy_with_logits(logits,y)\n",
        "    loss_grad = grad_softmax_crossentropy_with_logits(logits,y)\n",
        "\n",
        "\n",
        "    # propagate gradients through network layers using .backward\n",
        "    # hint: start from last layer and move to earlier layers\n",
        "    grad = loss_grad\n",
        "    for layer in range(len(network) - 1, -1, -1):\n",
        "      grad = network[layer].backward(layer_inputs[layer], grad)\n",
        "\n",
        "    return np.mean(loss)"
      ]
    },
    {
      "cell_type": "markdown",
      "metadata": {
        "id": "Kq8F9gLbHTzW"
      },
      "source": [
        "Instead of tests, we provide you with a training loop that prints training and validation accuracies on every epoch.\n",
        "\n",
        "If your implementation of forward and backward are correct, your accuracy should grow from 90~93% to >97% with the default network."
      ]
    },
    {
      "cell_type": "markdown",
      "metadata": {
        "id": "uck6kCbCHTzX"
      },
      "source": [
        "### Training loop\n",
        "\n",
        "As usual, we split data into minibatches, feed each such minibatch into the network and update weights."
      ]
    },
    {
      "cell_type": "code",
      "execution_count": 86,
      "metadata": {
        "collapsed": true,
        "id": "7m1pc0M_HTzX"
      },
      "outputs": [],
      "source": [
        "from tqdm import trange\n",
        "def iterate_minibatches(inputs, targets, batchsize, shuffle=False):\n",
        "    assert len(inputs) == len(targets)\n",
        "    if shuffle:\n",
        "        indices = np.random.permutation(len(inputs))\n",
        "    for start_idx in trange(0, len(inputs) - batchsize + 1, batchsize):\n",
        "        if shuffle:\n",
        "            excerpt = indices[start_idx:start_idx + batchsize]\n",
        "        else:\n",
        "            excerpt = slice(start_idx, start_idx + batchsize)\n",
        "        yield inputs[excerpt], targets[excerpt]"
      ]
    },
    {
      "cell_type": "code",
      "execution_count": 87,
      "metadata": {
        "collapsed": true,
        "id": "vm8BLCpFHTzX"
      },
      "outputs": [],
      "source": [
        "from IPython.display import clear_output\n",
        "train_log = []\n",
        "val_log = []"
      ]
    },
    {
      "cell_type": "code",
      "execution_count": 88,
      "metadata": {
        "collapsed": true,
        "id": "HnF0yvkpHTzX",
        "outputId": "1daa6ada-9bd0-4c62-c0d9-8a5e7d0fa151",
        "colab": {
          "base_uri": "https://localhost:8080/",
          "height": 482
        }
      },
      "outputs": [
        {
          "output_type": "stream",
          "name": "stdout",
          "text": [
            "Epoch 29\n",
            "Train accuracy: 0.99986\n",
            "Val accuracy: 0.9781\n"
          ]
        },
        {
          "output_type": "display_data",
          "data": {
            "text/plain": [
              "<Figure size 640x480 with 1 Axes>"
            ],
            "image/png": "[encoded data removed]"
          },
          "metadata": {}
        }
      ],
      "source": [
        "for epoch in range(30):\n",
        "\n",
        "    for x_batch,y_batch in iterate_minibatches(X_train, y_train, batchsize=32, shuffle=True):\n",
        "        train(network, x_batch, y_batch)\n",
        "\n",
        "    train_log.append(np.mean(predict(network, X_train) == y_train))\n",
        "    val_log.append(np.mean(predict(network, X_val) == y_val))\n",
        "\n",
        "    clear_output()\n",
        "    print(\"Epoch\",epoch)\n",
        "    print(\"Train accuracy:\",train_log[-1])\n",
        "    print(\"Val accuracy:\",val_log[-1])\n",
        "    plt.plot(train_log,label='train accuracy')\n",
        "    plt.plot(val_log,label='val accuracy')\n",
        "    plt.legend(loc='best')\n",
        "    plt.grid()\n",
        "    plt.show()\n"
      ]
    },
    {
      "cell_type": "markdown",
      "metadata": {
        "id": "XFrxanbTHTzX"
      },
      "source": [
        "__What should you see:__ `train accuracy` should increase to near-100%. Val accuracy will also increase, allbeit to a smaller value.\n",
        "\n",
        "__What else to try:__ You can try implementing different nonlinearities, dropout or composing neural network of more layers. See how this affects training speed, overfitting & final quality.\n",
        "\n",
        "Good hunting!"
      ]
    },
    {
      "cell_type": "markdown",
      "metadata": {
        "collapsed": true,
        "id": "-zkswPIxHTzX"
      },
      "source": []
    }
  ],
  "metadata": {
    "kernelspec": {
      "display_name": "Python 3 (ipykernel)",
      "language": "python",
      "name": "python3"
    },
    "language_info": {
      "codemirror_mode": {
        "name": "ipython",
        "version": 3
      },
      "file_extension": ".py",
      "mimetype": "text/x-python",
      "name": "python",
      "nbconvert_exporter": "python",
      "pygments_lexer": "ipython3",
      "version": "3.9.13"
    },
    "toc": {
      "colors": {
        "hover_highlight": "#DAA520",
        "navigate_num": "#000000",
        "navigate_text": "#333333",
        "running_highlight": "#FF0000",
        "selected_highlight": "#FFD700",
        "sidebar_border": "#EEEEEE",
        "wrapper_background": "#FFFFFF"
      },
      "moveMenuLeft": true,
      "nav_menu": {
        "height": "264px",
        "width": "252px"
      },
      "navigate_menu": true,
      "number_sections": true,
      "sideBar": true,
      "threshold": 4,
      "toc_cell": false,
      "toc_section_display": "block",
      "toc_window_display": false,
      "widenNotebook": false
    },
    "colab": {
      "provenance": []
    }
  },
  "nbformat": 4,
  "nbformat_minor": 0
}